{
  "cells": [
    {
      "cell_type": "markdown",
      "metadata": {
        "id": "view-in-github",
        "colab_type": "text"
      },
      "source": [
        "<a href=\"https://colab.research.google.com/github/ZakriyaParacha46/Image-Processing/blob/main/Dip_Assignment1.ipynb\" target=\"_parent\"><img src=\"https://colab.research.google.com/assets/colab-badge.svg\" alt=\"Open In Colab\"/></a>"
      ]
    },
    {
      "cell_type": "markdown",
      "metadata": {
        "id": "rL0pYRCq7zCA"
      },
      "source": [
        "**DIP Assignment 1:**\n",
        "Decoding Braille Langue Images using Connected Component Labeling and Image Processing\n",
        "Fundamentals bold text\n",
        "*   Name:    Zakriya Asif Paracha\n",
        "*   Regn no: 340413\n",
        "*   dept:    CE42B\n",
        "\n",
        "To use the code you need to upload following files: \n",
        "1.   Braille.png\n",
        "2.   Conversiontable.json\n",
        "\n",
        "\n",
        "\n"
      ]
    },
    {
      "cell_type": "code",
      "execution_count": null,
      "metadata": {
        "id": "axKs4Kh6SFhX"
      },
      "outputs": [],
      "source": [
        "import numpy as np\n",
        "import cv2  \n",
        "from matplotlib import pyplot as plt\n",
        "import random\n",
        "import copy\n",
        "import json\n",
        "from google.colab.patches import cv2_imshow"
      ]
    },
    {
      "cell_type": "code",
      "execution_count": null,
      "metadata": {
        "id": "ICaCPLgaWwve"
      },
      "outputs": [],
      "source": [
        "#------ main function\n",
        "def CCA8(image, vset):\n",
        "    #inputs: nparray:image, list: vset \n",
        "    #Outputs: (count,map,stats[label: (x_i, y_i, x_m, y_m)]) \n",
        "    #replacement dictionary\n",
        "    \n",
        "    #-- helping functions to keep track of positions of the objects\n",
        "    tobedeleted= set()\n",
        "    def updatestats(label,i,j):\n",
        "        #mantain the maximum pixels for each image\n",
        "        stats[label]['x_min']=min(stats[label]['x_min'], i)\n",
        "        stats[label]['y_min']=min(stats[label]['y_min'], j)\n",
        "        stats[label]['max_x']=max(stats[label]['max_x'], i)\n",
        "        stats[label]['max_y']=max(stats[label]['max_y'], j)\n",
        "\n",
        "        if(label!=1):\n",
        "            #mantaining bigest length\n",
        "            diffx=stats[label]['max_x']-stats[label]['x_min']\n",
        "            diffy=stats[label]['max_y']-stats[label]['y_min']\n",
        "            if(diffx>stats['max_lenx']):stats['max_lenx']= diffx\n",
        "            if(diffy>stats['max_leny']):stats['max_leny']= diffy\n",
        "        return stats\n",
        "        \n",
        "    def mergestats(label2,label):\n",
        "        #mantain the maximum pixels for each image\n",
        "        stats[label]['x_min']=min(stats[label]['x_min'], stats[label2]['x_min'])\n",
        "        stats[label]['y_min']=min(stats[label]['y_min'], stats[label2]['y_min'])\n",
        "        stats[label]['max_x']=max(stats[label]['max_x'], stats[label2]['max_x'])\n",
        "        stats[label]['max_y']=max(stats[label]['max_y'], stats[label2]['max_y'])\n",
        "        tobedeleted.add(label2)\n",
        "        \n",
        "        if(label!=1):\n",
        "            #mantaining bigest length\n",
        "            diffx=stats[label]['max_x']-stats[label]['x_min']\n",
        "            diffy=stats[label]['max_y']-stats[label]['y_min']\n",
        "            if(diffx>stats['max_lenx']):stats['max_lenx']= diffx\n",
        "            if(diffy>stats['max_leny']):stats['max_leny']= diffy\n",
        "        return stats\n",
        "    \n",
        "    #-- replace dictionary        \n",
        "    rd= {}\n",
        "    #-- padding the image top and bottom\n",
        "    paddedImg=cv2.copyMakeBorder(image,1,0,1,1,cv2.BORDER_CONSTANT)\n",
        "    #--return an objects map\n",
        "    objectMap=np.zeros((paddedImg.shape[0],paddedImg.shape[1]), dtype=np.int32)\n",
        "    height,width=paddedImg.shape\n",
        "    #-- mainAlgorithm\n",
        "    stats={'max_lenx':0,'max_leny':0}\n",
        "    labelcount=0\n",
        "    for i in range(height):\n",
        "        for j in range(width-1):\n",
        "            if(paddedImg[i][j] in vset):\n",
        "                neighbours=[objectMap[i-1][j],objectMap[i][j-1],objectMap[i-1][j-1],objectMap[i-1][j+1]]\n",
        "                \n",
        "                #--if all are zero\n",
        "                if(neighbours.count(0)==4):\n",
        "                    labelcount+=1\n",
        "                    objectMap[i][j]=labelcount\n",
        "                    stats[labelcount]={'x_min': i, 'y_min': j,'max_x': i, 'max_y': j}\n",
        "\n",
        "                #--if less then 3 are zero\n",
        "                else:\n",
        "                    minimum= min([i for i in neighbours if i!= 0]) #ignore zeros\n",
        "                    neighbours_reduced= [i for i in neighbours if i!= minimum and i!=0] #ignore minimums\n",
        "\n",
        "                    #-- assign minimun to all the left values in rd\n",
        "                    objectMap[i][j]= minimum\n",
        "                    stats= updatestats(minimum,i,j)\n",
        "                    if(minimum in rd):\n",
        "                        for nr in neighbours_reduced:\n",
        "                            rd[nr]=rd[minimum]\n",
        "\n",
        "                    else:\n",
        "                        for nr in neighbours_reduced:\n",
        "                            rd[nr]=minimum\n",
        "                            \n",
        "    #-- replace the values using replacement dictionary and remove padding and count the objects\n",
        "    for i in range(1,height):\n",
        "         for j in range(1,width-1):\n",
        "            if(objectMap[i][j] in rd.keys()):\n",
        "                stats = mergestats(objectMap[i][j],rd[objectMap[i][j]])\n",
        "                objectMap[i][j]=rd[objectMap[i][j]]\n",
        "\n",
        "    #-- delete all the extra nodes\n",
        "    for i in tobedeleted:\n",
        "        del stats[i]\n",
        "    \n",
        "    #-- removing background data\n",
        "    count=labelcount- len(rd) -1\n",
        "    del stats[1]\n",
        "    return(count,objectMap[1:-1,1:-1],stats) #count of objects , positions of the object"
      ]
    },
    {
      "cell_type": "code",
      "execution_count": null,
      "metadata": {
        "id": "srAIAfCfSWF3"
      },
      "outputs": [],
      "source": [
        "#------ helping functions\n",
        "def boundingbox(img, stats):\n",
        "    newimg= copy.deepcopy(img)\n",
        "    for object in stats.values():\n",
        "        if(type(object) is dict):\n",
        "            newimg = cv2.rectangle(newimg, (object['y_min'],object['x_min']), (object['y_min']+stats['max_leny'],object['x_min']+stats['max_lenx']), (125), 2)\n",
        "    return newimg\n",
        "\n",
        "def color(img,basebrightness=50):\n",
        "    #give Random color to each object in label table\n",
        "    c_img= np.zeros((img.shape[0],img.shape[1],3), dtype=np.uint8)\n",
        "    colordict={0:(0,0,0)}\n",
        "    for i in range (img.shape[0]):\n",
        "        for j in range(img.shape[1]):\n",
        "            if(img[i][j] not in colordict):\n",
        "                colordict[img[i][j]]=(random.randint(basebrightness,255),random.randint(basebrightness,255),random.randint(basebrightness,255))\n",
        "            c_img[i][j]=colordict[img[i][j]]\n",
        "    return c_img\n",
        "\n",
        "def clustering(img_input,stats,threshold=200):\n",
        "    \"\"\"\n",
        "    #cluster the pixels in the bounding box and convert it to array \n",
        "    Internal encoding: in the image ,we move up to down and left to right. for example for C\n",
        "    C=[[1,1]\n",
        "       [0,0]\n",
        "       [0,0]]\n",
        "    so its representation would be '100100'\n",
        "    \"\"\"\n",
        "    shapes=[]    #[strings]\n",
        "    for stt in  stats.values():\n",
        "        shape= ''\n",
        "\n",
        "        if(type(stt) is dict):\n",
        "            x_max,x_min,y_max,y_min= stt['x_min']+stats['max_lenx'],stt['x_min'] ,stt['y_min']+stats['max_leny'],stt['y_min']        \n",
        "            \n",
        "            y_mid= (y_min+y_max)//2 \n",
        "            x_length= (x_max-x_min)//3 \n",
        "            x_lowermid=x_min+ x_length\n",
        "            x_uppermid=x_min+(2*x_length)\n",
        "            \n",
        "            #-- devide the image in 6 subsections\n",
        "            shape +=str(int((img_input[ x_min      :x_lowermid   ,y_min:y_mid]==0).sum()>threshold))\n",
        "            shape +=str(int((img_input[x_lowermid  :x_uppermid    ,y_min:y_mid]==0).sum()>threshold))\n",
        "            shape +=str(int((img_input[x_uppermid  :x_max         ,y_min:y_mid]==0).sum()>threshold))\n",
        "            shape +=str(int((img_input[ x_min      :x_lowermid   ,y_mid:y_max]==0).sum()>threshold))\n",
        "            shape +=str(int((img_input[x_lowermid  :x_uppermid    ,y_mid:y_max]==0).sum()>threshold))\n",
        "            shape +=str(int((img_input[x_uppermid  :x_max         ,y_mid:y_max] ==0).sum()>threshold))\n",
        "            shapes.append(shape)\n",
        "    return shapes\n",
        "\n",
        "def managespaces(image, stats,threshold):\n",
        "#calculate the indexes of the spaces in text\n",
        "    k=list(stats.keys())\n",
        "    s=[]\n",
        "    for i in range(2,len(k)-1):\n",
        "        sd=abs(stats[k[i+1]]['y_min'] - stats[k[i]]['max_y'])\n",
        "        if (sd>threshold):s.append(i-1)\n",
        "    return s      \n",
        "\n",
        "def mergetext(inp, spaces):\n",
        "#join the text with the spaces\n",
        "    text=inp\n",
        "    added_spaces= 0\n",
        "    for i in spaces:\n",
        "            text=text[:i+added_spaces]+' '+text[i+added_spaces:] \n",
        "            added_spaces+=1\n",
        "    return text"
      ]
    },
    {
      "cell_type": "markdown",
      "metadata": {
        "id": "t4Tl7br-l8Ne"
      },
      "source": [
        "Depending on the imagesize, braille cell size and dimentions these parameters would needed to be changed\n",
        "for the given input: if you want to make the Convertion table True the \"makingkey\"."
      ]
    },
    {
      "cell_type": "code",
      "execution_count": null,
      "metadata": {
        "id": "w88ENJTeSYwI"
      },
      "outputs": [],
      "source": [
        "#parameters\n",
        "makingkey = True                              #key: True     ,actualimage:false\n",
        "if (makingkey):\n",
        "  GaussianBlur = (3,3)                         #key: (3,3)   , actualimage: (1,1)\n",
        "  kernelerode = np.ones((17,5), np.uint8)      #key:   , actualimage: (17,5)\n",
        "  prevresolution= (600,350)                    #key:(600,350)    , actualimage:(720,1080) \n",
        "  clusteringthreshold = 200                     #key: 200     , actualimage: 20  \n",
        "  filename = 'processedKey.png'                   #key: 'processedKey.png' ,actualimage : 'braille.png'\n",
        "  conversiontable='convertiontable.json'   \n",
        "else:\n",
        "  GaussianBlur = (1,1)                         #key: (3,3)   , actualimage: (1,1)\n",
        "  kernelerode = np.ones((17,5), np.uint8)      #key, actualimage: (17,5)\n",
        "  prevresolution= (720,1080)                    #key:(600,350)    , actualimage:(720,1080) \n",
        "  clusteringthreshold = 29                     #key: 200     , actualimage: 20  \n",
        "  filename = 'Braille.png'                   #key: 'processedKey.png' ,actualimage : 'braille.png'\n",
        "  conversiontable='convertiontable.json'   \n",
        "  outputfile= 'translated.txt'\n"
      ]
    },
    {
      "cell_type": "code",
      "execution_count": null,
      "metadata": {
        "colab": {
          "base_uri": "https://localhost:8080/",
          "height": 385
        },
        "id": "CNS6dKXgUVE1",
        "outputId": "5242c58f-99c7-4ae5-de06-6456312a13bf"
      },
      "outputs": [
        {
          "output_type": "stream",
          "name": "stdout",
          "text": [
            "InputShape (353, 600)\n"
          ]
        },
        {
          "output_type": "display_data",
          "data": {
            "text/plain": [
              "<PIL.Image.Image image mode=L size=600x350 at 0x7F61E03ED460>"
            ],
            "image/png": "[encoded data removed]"
          },
          "metadata": {}
        }
      ],
      "source": [
        "#------ input image and pre processing- resize, blur\n",
        "img_input = cv2.imread(filename,0) #load grayscale img\n",
        "print(\"InputShape\" ,img_input.shape)\n",
        "cv2_imshow(cv2.resize(img_input, prevresolution, interpolation = cv2.INTER_AREA))"
      ]
    },
    {
      "cell_type": "code",
      "execution_count": null,
      "metadata": {
        "colab": {
          "base_uri": "https://localhost:8080/",
          "height": 385
        },
        "id": "ea7AinbyVGGW",
        "outputId": "5d6c4ee2-f782-427e-b908-d4ef62ced2ca"
      },
      "outputs": [
        {
          "output_type": "stream",
          "name": "stdout",
          "text": [
            "blured and thresholded \n"
          ]
        },
        {
          "output_type": "display_data",
          "data": {
            "text/plain": [
              "<PIL.Image.Image image mode=L size=600x350 at 0x7F61E03ED5B0>"
            ],
            "image/png": "[encoded data removed]"
          },
          "metadata": {}
        }
      ],
      "source": [
        "#------ preprocessing\n",
        "blur_image = cv2.GaussianBlur(img_input,GaussianBlur,0) #blur the image\n",
        "_,threshimage = cv2.threshold(blur_image,127,255,cv2.THRESH_BINARY)\n",
        "print(\"blured and thresholded \")\n",
        "cv2_imshow(cv2.resize(threshimage,prevresolution, interpolation = cv2.INTER_AREA))"
      ]
    },
    {
      "cell_type": "markdown",
      "metadata": {
        "id": "YzPVsc3UmaGJ"
      },
      "source": [
        "**Erode:** Erode is a image processing tool which is used to spread/expand the pixels, which helps us in the given case to connect the braille cells with each oth"
      ]
    },
    {
      "cell_type": "code",
      "execution_count": null,
      "metadata": {
        "colab": {
          "base_uri": "https://localhost:8080/",
          "height": 385
        },
        "id": "fI6ltcFrVUzt",
        "outputId": "a281eea3-c500-423f-9f26-0d4176cac6df"
      },
      "outputs": [
        {
          "output_type": "stream",
          "name": "stdout",
          "text": [
            "Eroded image \n"
          ]
        },
        {
          "output_type": "display_data",
          "data": {
            "text/plain": [
              "<PIL.Image.Image image mode=L size=600x350 at 0x7F62047E9400>"
            ],
            "image/png": "[encoded data removed]"
          },
          "metadata": {}
        }
      ],
      "source": [
        "#------ erode the image\n",
        "img_erode = cv2.erode(threshimage, kernelerode, iterations=2)\n",
        "print(\"Eroded image \")\n",
        "cv2_imshow(cv2.resize(img_erode, prevresolution, interpolation = cv2.INTER_AREA))\n"
      ]
    },
    {
      "cell_type": "markdown",
      "metadata": {
        "id": "9x5Jo_A7mvtJ"
      },
      "source": [
        "**CCA8:** \n",
        "This function takes in the eroded image and do Connected component analysis on it.\n",
        "\n",
        "Return:  \n",
        "*   **Count:** Number of indendent objects in the image\n",
        "*   **objects:** image with same dimetions as input image but, it marks each object with a specific label\n",
        "*   **Stats:** it is used in processing on coming stages, it have the information about minimum and maximum of all the objects, and maxlenghth of an object and max width\n",
        "\n",
        "**Color:** Its a simple procedure which inputs the objects image and give each object an specific color, for better visualization.\n"
      ]
    },
    {
      "cell_type": "code",
      "execution_count": null,
      "metadata": {
        "colab": {
          "base_uri": "https://localhost:8080/",
          "height": 385
        },
        "id": "ihshxRneVjcz",
        "outputId": "113e613a-ec50-4476-ae33-36da3ea07f97"
      },
      "outputs": [
        {
          "output_type": "stream",
          "name": "stdout",
          "text": [
            "Charecters: 26\n"
          ]
        },
        {
          "output_type": "display_data",
          "data": {
            "text/plain": [
              "<PIL.Image.Image image mode=RGB size=600x350 at 0x7F621CD1A640>"
            ],
            "image/png": "[encoded data removed]"
          },
          "metadata": {}
        }
      ],
      "source": [
        "#------ get the obects from the image\n",
        "#inefficient CCA8 algo, took about 2.5 minutes to run\n",
        "vset=[0]\n",
        "count,objects,stats=CCA8(img_erode,vset)   #count of objects , positions of the object,stats=initial and ending points ,maximum size object\n",
        "print(\"Charecters:\",count) #-1 for background\n",
        "cv2_imshow(cv2.resize(color(objects), prevresolution, interpolation = cv2.INTER_AREA))"
      ]
    },
    {
      "cell_type": "markdown",
      "metadata": {
        "id": "leLWS--zoVuR"
      },
      "source": [
        "Using the Stats from last code block, we can analyze each charecter seprately, I have added bounding box, around them.\n",
        "**clustring:**: It takes in information, stats and return string of charecters in the image.\n",
        "**managespaces**: on the bases of X_axis distance between two consective objects, I calculate all the posible space indexes and return them."
      ]
    },
    {
      "cell_type": "code",
      "execution_count": null,
      "metadata": {
        "colab": {
          "base_uri": "https://localhost:8080/",
          "height": 367
        },
        "id": "03mOJ5WpVmOG",
        "outputId": "52a62160-ba98-44ed-b30a-2d3711722572"
      },
      "outputs": [
        {
          "output_type": "display_data",
          "data": {
            "text/plain": [
              "<PIL.Image.Image image mode=L size=600x350 at 0x7F62047648E0>"
            ],
            "image/png": "[encoded data removed]"
          },
          "metadata": {}
        }
      ],
      "source": [
        "#------ drawing bounded boxex on each object\n",
        "bounded = boundingbox(img_input,stats)\n",
        "spacemap = managespaces(threshimage , stats,50) #spacebars and mapped image\n",
        "chars=    clustering(threshimage,stats,clusteringthreshold)\n",
        "cv2_imshow(cv2.resize(bounded, prevresolution, interpolation = cv2.INTER_AREA))\n"
      ]
    },
    {
      "cell_type": "code",
      "execution_count": null,
      "metadata": {
        "id": "kPnDrASoWXEW"
      },
      "outputs": [],
      "source": [
        "def makekey(fn, expectedstring, shapes):\n",
        "    #store the array representation in json file\n",
        "    expectedstring=expectedstring.replace(' ', '') #remove extra spaces\n",
        "    char_to_arr={}\n",
        "    for i,v in enumerate(expectedstring):\n",
        "        char_to_arr[shapes[i]]=v\n",
        "\n",
        "    with open(fn, 'w') as convert_file:\n",
        "        convert_file.write(json.dumps(char_to_arr))\n",
        "    return char_to_arr\n",
        "\n",
        "#------ Make the key  #note: use the processed key rather then actual key\n",
        "if(makingkey):\n",
        "    knowntext = 'abcdefghijklmnopqrstuvwxyz'\n",
        "    makekey('conversiontable.json',knowntext,chars)"
      ]
    },
    {
      "cell_type": "code",
      "execution_count": null,
      "metadata": {
        "colab": {
          "base_uri": "https://localhost:8080/"
        },
        "id": "nBc1q3i7Sa-w",
        "outputId": "726377bc-842f-4742-cdc1-87c6048de113"
      },
      "outputs": [
        {
          "output_type": "stream",
          "name": "stdout",
          "text": [
            "FINAL TEXT:  current affairs refer to events and incidents that are happening in the present time and have an impact on society politics the economy or other aspects of our daily lives there are always numerous ongoing events around the world that fall under this category some of the major current affairs topics that have dominated headlines in recent times include the covid pandemic and its impact on health economies and societies worldwide another significant event is the ongoing climate change crisis and the need to take urgent action to reduce greenhouse gas emissions and mitigate the effects of global warming additionally political events\n"
          ]
        }
      ],
      "source": [
        "#from 3x2 array -> charecter\n",
        "def translate(fn,shapes):\n",
        "    converstionkeys = json.load(open(fn,\"r\"))\n",
        "    message_str=''\n",
        "    for i in shapes:\n",
        "        message_str += converstionkeys[i]\n",
        "\n",
        "    return message_str\n",
        "\n",
        "#------ Use key to translate\n",
        "if(not(makingkey)):\n",
        "    text = translate('conversiontable.json',chars)\n",
        "    finaltext=mergetext(text,spacemap)\n",
        "    print(\"FINAL TEXT: \",finaltext)\n",
        "    #writing the output to the file\n",
        "    with open(outputfile, 'w') as f:\n",
        "        f.write(finaltext)"
      ]
    }
  ],
  "metadata": {
    "colab": {
      "provenance": [],
      "authorship_tag": "ABX9TyMpsZ6ZoMYJNYZvAwckTQcQ",
      "include_colab_link": true
    },
    "kernelspec": {
      "display_name": "Python 3",
      "name": "python3"
    },
    "language_info": {
      "name": "python"
    }
  },
  "nbformat": 4,
  "nbformat_minor": 0
}
